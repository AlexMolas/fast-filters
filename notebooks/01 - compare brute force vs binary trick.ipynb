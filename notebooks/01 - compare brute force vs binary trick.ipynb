{
 "cells": [
  {
   "cell_type": "code",
   "execution_count": 1,
   "id": "498e8ccb",
   "metadata": {},
   "outputs": [],
   "source": [
    "%load_ext autoreload\n",
    "%autoreload 2"
   ]
  },
  {
   "cell_type": "code",
   "execution_count": 2,
   "id": "9ccc1fe4",
   "metadata": {},
   "outputs": [],
   "source": [
    "import pandas as pd\n",
    "import sys\n",
    "sys.path.append(\"..\")"
   ]
  },
  {
   "cell_type": "markdown",
   "id": "310d7561",
   "metadata": {},
   "source": [
    "# Start loading the data and getting the vocabulary"
   ]
  },
  {
   "cell_type": "code",
   "execution_count": 3,
   "id": "062a2a3c",
   "metadata": {},
   "outputs": [],
   "source": [
    "df = pd.read_parquet(\"../data/test.parquet\")"
   ]
  },
  {
   "cell_type": "code",
   "execution_count": 4,
   "id": "d08739fc",
   "metadata": {},
   "outputs": [],
   "source": [
    "vocabulary = set([x for xs in df['elements_1'] for x in xs])"
   ]
  },
  {
   "cell_type": "markdown",
   "id": "1e55788c",
   "metadata": {},
   "source": [
    "# Check one list contains another list"
   ]
  },
  {
   "cell_type": "markdown",
   "id": "dbf6a560",
   "metadata": {},
   "source": [
    "## Brute force"
   ]
  },
  {
   "cell_type": "code",
   "execution_count": 5,
   "id": "eef284a0",
   "metadata": {},
   "outputs": [],
   "source": [
    "from fast_filters.brute_force import brute_force_c2_contains_c1"
   ]
  },
  {
   "cell_type": "code",
   "execution_count": 6,
   "id": "7b792b4e",
   "metadata": {
    "scrolled": true
   },
   "outputs": [
    {
     "name": "stdout",
     "output_type": "stream",
     "text": [
      "CPU times: user 10.9 s, sys: 125 ms, total: 11 s\n",
      "Wall time: 11.1 s\n"
     ]
    }
   ],
   "source": [
    "%%time\n",
    "index_brute = brute_force_c2_contains_c1(df, 'elements_1', 'elements_2')"
   ]
  },
  {
   "cell_type": "markdown",
   "id": "01c8b1a3",
   "metadata": {},
   "source": [
    "## Binary trick"
   ]
  },
  {
   "cell_type": "code",
   "execution_count": 7,
   "id": "c82f6b67",
   "metadata": {},
   "outputs": [],
   "source": [
    "from fast_filters.binary import Converter, vectorized_not_null_intersection, vectorized_c2_contains_c1"
   ]
  },
  {
   "cell_type": "code",
   "execution_count": 8,
   "id": "1dab4704",
   "metadata": {},
   "outputs": [
    {
     "name": "stdout",
     "output_type": "stream",
     "text": [
      "CPU times: user 3.54 s, sys: 52.4 ms, total: 3.6 s\n",
      "Wall time: 3.63 s\n"
     ]
    }
   ],
   "source": [
    "%%time\n",
    "converter = Converter(vocabulary=vocabulary)\n",
    "df['elements_1_bin'] = df['elements_1'].map(converter.convert)\n",
    "df['elements_2_bin'] = df['elements_2'].map(converter.convert)\n",
    "index_vec = vectorized_not_null_intersection(df, 'elements_1_bin', 'elements_2_bin')"
   ]
  },
  {
   "cell_type": "code",
   "execution_count": 9,
   "id": "58864203",
   "metadata": {},
   "outputs": [
    {
     "name": "stdout",
     "output_type": "stream",
     "text": [
      "CPU times: user 3.61 ms, sys: 1.6 ms, total: 5.21 ms\n",
      "Wall time: 4.05 ms\n"
     ]
    }
   ],
   "source": [
    "%%time\n",
    "index_vec = vectorized_c2_contains_c1(df, 'elements_1_bin', 'elements_2_bin')"
   ]
  },
  {
   "cell_type": "markdown",
   "id": "f912d882",
   "metadata": {},
   "source": [
    "### how does the integer representation look like?"
   ]
  },
  {
   "cell_type": "code",
   "execution_count": 10,
   "id": "e9ca4cc1",
   "metadata": {},
   "outputs": [
    {
     "data": {
      "text/html": [
       "<div>\n",
       "<style scoped>\n",
       "    .dataframe tbody tr th:only-of-type {\n",
       "        vertical-align: middle;\n",
       "    }\n",
       "\n",
       "    .dataframe tbody tr th {\n",
       "        vertical-align: top;\n",
       "    }\n",
       "\n",
       "    .dataframe thead th {\n",
       "        text-align: right;\n",
       "    }\n",
       "</style>\n",
       "<table border=\"1\" class=\"dataframe\">\n",
       "  <thead>\n",
       "    <tr style=\"text-align: right;\">\n",
       "      <th></th>\n",
       "      <th>id</th>\n",
       "      <th>elements_1</th>\n",
       "      <th>elements_2</th>\n",
       "      <th>elements_1_bin</th>\n",
       "      <th>elements_2_bin</th>\n",
       "    </tr>\n",
       "  </thead>\n",
       "  <tbody>\n",
       "    <tr>\n",
       "      <th>0</th>\n",
       "      <td>0</td>\n",
       "      <td>[gzvlwslrnh]</td>\n",
       "      <td>[gzvlwslrnh]</td>\n",
       "      <td>8</td>\n",
       "      <td>8</td>\n",
       "    </tr>\n",
       "    <tr>\n",
       "      <th>1</th>\n",
       "      <td>1</td>\n",
       "      <td>[wsvkyudbfd, gpxgwigfvd, edjjnoqjyi]</td>\n",
       "      <td>[hdqfajwgbw, wsvkyudbfd, vtqldagyxl]</td>\n",
       "      <td>6146</td>\n",
       "      <td>28672</td>\n",
       "    </tr>\n",
       "    <tr>\n",
       "      <th>2</th>\n",
       "      <td>2</td>\n",
       "      <td>[vtqldagyxl]</td>\n",
       "      <td>[wdhltmuqti, edjjnoqjyi]</td>\n",
       "      <td>8192</td>\n",
       "      <td>1026</td>\n",
       "    </tr>\n",
       "    <tr>\n",
       "      <th>3</th>\n",
       "      <td>3</td>\n",
       "      <td>[oyizmzfmpr, hdqfajwgbw, wsvkyudbfd, edjjnoqjyi]</td>\n",
       "      <td>[xwyehwnnbw, xczmujmhug, owetlrgmyw, gpxgwigfvd]</td>\n",
       "      <td>20486</td>\n",
       "      <td>2704</td>\n",
       "    </tr>\n",
       "    <tr>\n",
       "      <th>4</th>\n",
       "      <td>4</td>\n",
       "      <td>[xwyehwnnbw, edjjnoqjyi]</td>\n",
       "      <td>[owetlrgmyw, wdhltmuqti]</td>\n",
       "      <td>18</td>\n",
       "      <td>1152</td>\n",
       "    </tr>\n",
       "  </tbody>\n",
       "</table>\n",
       "</div>"
      ],
      "text/plain": [
       "   id                                        elements_1  \\\n",
       "0   0                                      [gzvlwslrnh]   \n",
       "1   1              [wsvkyudbfd, gpxgwigfvd, edjjnoqjyi]   \n",
       "2   2                                      [vtqldagyxl]   \n",
       "3   3  [oyizmzfmpr, hdqfajwgbw, wsvkyudbfd, edjjnoqjyi]   \n",
       "4   4                          [xwyehwnnbw, edjjnoqjyi]   \n",
       "\n",
       "                                         elements_2  elements_1_bin  \\\n",
       "0                                      [gzvlwslrnh]               8   \n",
       "1              [hdqfajwgbw, wsvkyudbfd, vtqldagyxl]            6146   \n",
       "2                          [wdhltmuqti, edjjnoqjyi]            8192   \n",
       "3  [xwyehwnnbw, xczmujmhug, owetlrgmyw, gpxgwigfvd]           20486   \n",
       "4                          [owetlrgmyw, wdhltmuqti]              18   \n",
       "\n",
       "   elements_2_bin  \n",
       "0               8  \n",
       "1           28672  \n",
       "2            1026  \n",
       "3            2704  \n",
       "4            1152  "
      ]
     },
     "execution_count": 10,
     "metadata": {},
     "output_type": "execute_result"
    }
   ],
   "source": [
    "df.head()"
   ]
  },
  {
   "cell_type": "markdown",
   "id": "953d9641",
   "metadata": {},
   "source": [
    "# Final checks"
   ]
  },
  {
   "cell_type": "code",
   "execution_count": 11,
   "id": "b64d69fb",
   "metadata": {},
   "outputs": [
    {
     "data": {
      "text/plain": [
       "True"
      ]
     },
     "execution_count": 11,
     "metadata": {},
     "output_type": "execute_result"
    }
   ],
   "source": [
    "all(index_brute == index_vec)"
   ]
  },
  {
   "cell_type": "code",
   "execution_count": null,
   "id": "8e95a684",
   "metadata": {},
   "outputs": [],
   "source": []
  }
 ],
 "metadata": {
  "kernelspec": {
   "display_name": "Python 3 (ipykernel)",
   "language": "python",
   "name": "python3"
  },
  "language_info": {
   "codemirror_mode": {
    "name": "ipython",
    "version": 3
   },
   "file_extension": ".py",
   "mimetype": "text/x-python",
   "name": "python",
   "nbconvert_exporter": "python",
   "pygments_lexer": "ipython3",
   "version": "3.10.2"
  }
 },
 "nbformat": 4,
 "nbformat_minor": 5
}
