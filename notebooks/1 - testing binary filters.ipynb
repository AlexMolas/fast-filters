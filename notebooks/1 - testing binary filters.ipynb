{
 "cells": [
  {
   "cell_type": "code",
   "execution_count": 8,
   "id": "498e8ccb",
   "metadata": {},
   "outputs": [],
   "source": [
    "%load_ext autoreload\n",
    "%autoreload 2"
   ]
  },
  {
   "cell_type": "code",
   "execution_count": 9,
   "id": "9ccc1fe4",
   "metadata": {},
   "outputs": [],
   "source": [
    "import pandas as pd"
   ]
  },
  {
   "cell_type": "code",
   "execution_count": 10,
   "id": "82d07b10",
   "metadata": {},
   "outputs": [],
   "source": [
    "import sys\n",
    "sys.path.append(\"..\")"
   ]
  },
  {
   "cell_type": "code",
   "execution_count": 69,
   "id": "062a2a3c",
   "metadata": {},
   "outputs": [],
   "source": [
    "df = pd.read_parquet(\"../data/test.parquet\")"
   ]
  },
  {
   "cell_type": "code",
   "execution_count": 70,
   "id": "d08739fc",
   "metadata": {},
   "outputs": [
    {
     "name": "stdout",
     "output_type": "stream",
     "text": [
      "CPU times: user 555 ms, sys: 14.8 ms, total: 570 ms\n",
      "Wall time: 571 ms\n"
     ]
    }
   ],
   "source": [
    "%%time\n",
    "vocabulary = set([x for xs in df['elements_1'] for x in xs])"
   ]
  },
  {
   "cell_type": "markdown",
   "id": "1e55788c",
   "metadata": {},
   "source": [
    "# check the intersection"
   ]
  },
  {
   "cell_type": "markdown",
   "id": "dbf6a560",
   "metadata": {},
   "source": [
    "## brute force"
   ]
  },
  {
   "cell_type": "code",
   "execution_count": 71,
   "id": "a35ba1d3",
   "metadata": {},
   "outputs": [],
   "source": [
    "from fast_filters.brute_force import brute_force_not_null_intersection"
   ]
  },
  {
   "cell_type": "code",
   "execution_count": 72,
   "id": "7b792b4e",
   "metadata": {
    "scrolled": true
   },
   "outputs": [
    {
     "name": "stdout",
     "output_type": "stream",
     "text": [
      "CPU times: user 10.3 s, sys: 103 ms, total: 10.4 s\n",
      "Wall time: 10.5 s\n"
     ]
    }
   ],
   "source": [
    "%%time\n",
    "index_brute = brute_force_not_null_intersection(df, 'elements_1', 'elements_2')"
   ]
  },
  {
   "cell_type": "markdown",
   "id": "01c8b1a3",
   "metadata": {},
   "source": [
    "## binary"
   ]
  },
  {
   "cell_type": "code",
   "execution_count": 88,
   "id": "cce4f98c",
   "metadata": {},
   "outputs": [],
   "source": [
    "from fast_filters.binary import Converter, vectorized_not_null_intersection, vectorized_c2_contains_c1"
   ]
  },
  {
   "cell_type": "code",
   "execution_count": 74,
   "id": "4b1037d0",
   "metadata": {},
   "outputs": [
    {
     "name": "stdout",
     "output_type": "stream",
     "text": [
      "CPU times: user 3.99 s, sys: 77.8 ms, total: 4.07 s\n",
      "Wall time: 4.15 s\n"
     ]
    }
   ],
   "source": [
    "%%time\n",
    "converter = Converter(vocabulary=vocabulary)\n",
    "df['elements_1_bin'] = df['elements_1'].map(converter.convert)\n",
    "df['elements_2_bin'] = df['elements_2'].map(converter.convert)\n",
    "index_vec = vectorized_not_null_intersection(df, 'elements_1_bin', 'elements_2_bin')"
   ]
  },
  {
   "cell_type": "code",
   "execution_count": 90,
   "id": "3bfa63fd",
   "metadata": {},
   "outputs": [
    {
     "name": "stdout",
     "output_type": "stream",
     "text": [
      "CPU times: user 5.39 ms, sys: 3.22 ms, total: 8.61 ms\n",
      "Wall time: 6.98 ms\n"
     ]
    }
   ],
   "source": [
    "%%time\n",
    "index_vec = vectorized_not_null_intersection(df, 'elements_1_bin', 'elements_2_bin')"
   ]
  },
  {
   "cell_type": "code",
   "execution_count": 91,
   "id": "7208f87c",
   "metadata": {},
   "outputs": [
    {
     "name": "stdout",
     "output_type": "stream",
     "text": [
      "CPU times: user 5.52 ms, sys: 2.6 ms, total: 8.12 ms\n",
      "Wall time: 6.25 ms\n"
     ]
    }
   ],
   "source": [
    "%%time\n",
    "index_vec = vectorized_c2_contains_c1(df, 'elements_1_bin', 'elements_2_bin')"
   ]
  },
  {
   "cell_type": "code",
   "execution_count": null,
   "id": "df973c5e",
   "metadata": {},
   "outputs": [],
   "source": []
  },
  {
   "cell_type": "markdown",
   "id": "eec76970",
   "metadata": {},
   "source": [
    "# checks"
   ]
  },
  {
   "cell_type": "code",
   "execution_count": 33,
   "id": "83719413",
   "metadata": {},
   "outputs": [
    {
     "data": {
      "text/plain": [
       "True"
      ]
     },
     "execution_count": 33,
     "metadata": {},
     "output_type": "execute_result"
    }
   ],
   "source": [
    "all(index_brute == index_vec)"
   ]
  },
  {
   "cell_type": "code",
   "execution_count": null,
   "id": "ac441da2",
   "metadata": {},
   "outputs": [],
   "source": []
  }
 ],
 "metadata": {
  "kernelspec": {
   "display_name": "Python 3 (ipykernel)",
   "language": "python",
   "name": "python3"
  },
  "language_info": {
   "codemirror_mode": {
    "name": "ipython",
    "version": 3
   },
   "file_extension": ".py",
   "mimetype": "text/x-python",
   "name": "python",
   "nbconvert_exporter": "python",
   "pygments_lexer": "ipython3",
   "version": "3.10.2"
  }
 },
 "nbformat": 4,
 "nbformat_minor": 5
}
